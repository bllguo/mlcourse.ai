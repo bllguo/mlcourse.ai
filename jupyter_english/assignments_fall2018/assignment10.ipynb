{
 "cells": [
  {
   "cell_type": "markdown",
   "metadata": {
    "_uuid": "90e3a2685594cc6aae3914d3d519be153b050d78"
   },
   "source": [
    "\n",
    "\n",
    "Your task is to beat all benchmarks in this competition. Here you won’t be provided with detailed instructions. Hopefully, at this stage of the course, it's enough for you to take a quick look at the data in order to understand that this is the type of task where gradient boosting will do. Most likely it will be LightGBM. But you can try Xgboost or Catboost as well.\n",
    "\n",
    "<img src=\"https://habrastorage.org/webt/fs/42/ms/fs42ms0r7qsoj-da4x7yfntwrbq.jpeg\" width=30% />"
   ]
  },
  {
   "cell_type": "code",
   "execution_count": 1,
   "metadata": {
    "_uuid": "b486c4beb6f64fbeb70610a0e5ed7145256605e1"
   },
   "outputs": [],
   "source": [
    "import warnings\n",
    "warnings.filterwarnings('ignore')\n",
    "import numpy as np\n",
    "import pandas as pd\n",
    "from sklearn.preprocessing import StandardScaler\n",
    "from sklearn.pipeline import Pipeline\n",
    "from sklearn.model_selection import train_test_split, RandomizedSearchCV, StratifiedKFold\n",
    "from sklearn.linear_model import LogisticRegression\n",
    "from sklearn.metrics import roc_auc_score\n",
    "import xgboost as xgb\n",
    "import lightgbm as lgb"
   ]
  },
  {
   "cell_type": "code",
   "execution_count": 223,
   "metadata": {
    "_uuid": "2e7833f60e9392ba0526aec5b68ea8587ce90274"
   },
   "outputs": [],
   "source": [
    "train_df = pd.read_csv('../../data/flight_delays_train.csv')\n",
    "test_df = pd.read_csv('../../data/flight_delays_test.csv')"
   ]
  },
  {
   "cell_type": "code",
   "execution_count": 3,
   "metadata": {
    "_uuid": "c02aa9ea53a2733cd5683bd10beed2b561acf7bb"
   },
   "outputs": [
    {
     "data": {
      "text/html": [
       "<div>\n",
       "<style scoped>\n",
       "    .dataframe tbody tr th:only-of-type {\n",
       "        vertical-align: middle;\n",
       "    }\n",
       "\n",
       "    .dataframe tbody tr th {\n",
       "        vertical-align: top;\n",
       "    }\n",
       "\n",
       "    .dataframe thead th {\n",
       "        text-align: right;\n",
       "    }\n",
       "</style>\n",
       "<table border=\"1\" class=\"dataframe\">\n",
       "  <thead>\n",
       "    <tr style=\"text-align: right;\">\n",
       "      <th></th>\n",
       "      <th>Month</th>\n",
       "      <th>DayofMonth</th>\n",
       "      <th>DayOfWeek</th>\n",
       "      <th>DepTime</th>\n",
       "      <th>UniqueCarrier</th>\n",
       "      <th>Origin</th>\n",
       "      <th>Dest</th>\n",
       "      <th>Distance</th>\n",
       "      <th>dep_delayed_15min</th>\n",
       "    </tr>\n",
       "  </thead>\n",
       "  <tbody>\n",
       "    <tr>\n",
       "      <th>0</th>\n",
       "      <td>c-8</td>\n",
       "      <td>c-21</td>\n",
       "      <td>c-7</td>\n",
       "      <td>1934</td>\n",
       "      <td>AA</td>\n",
       "      <td>ATL</td>\n",
       "      <td>DFW</td>\n",
       "      <td>732</td>\n",
       "      <td>N</td>\n",
       "    </tr>\n",
       "    <tr>\n",
       "      <th>1</th>\n",
       "      <td>c-4</td>\n",
       "      <td>c-20</td>\n",
       "      <td>c-3</td>\n",
       "      <td>1548</td>\n",
       "      <td>US</td>\n",
       "      <td>PIT</td>\n",
       "      <td>MCO</td>\n",
       "      <td>834</td>\n",
       "      <td>N</td>\n",
       "    </tr>\n",
       "    <tr>\n",
       "      <th>2</th>\n",
       "      <td>c-9</td>\n",
       "      <td>c-2</td>\n",
       "      <td>c-5</td>\n",
       "      <td>1422</td>\n",
       "      <td>XE</td>\n",
       "      <td>RDU</td>\n",
       "      <td>CLE</td>\n",
       "      <td>416</td>\n",
       "      <td>N</td>\n",
       "    </tr>\n",
       "    <tr>\n",
       "      <th>3</th>\n",
       "      <td>c-11</td>\n",
       "      <td>c-25</td>\n",
       "      <td>c-6</td>\n",
       "      <td>1015</td>\n",
       "      <td>OO</td>\n",
       "      <td>DEN</td>\n",
       "      <td>MEM</td>\n",
       "      <td>872</td>\n",
       "      <td>N</td>\n",
       "    </tr>\n",
       "    <tr>\n",
       "      <th>4</th>\n",
       "      <td>c-10</td>\n",
       "      <td>c-7</td>\n",
       "      <td>c-6</td>\n",
       "      <td>1828</td>\n",
       "      <td>WN</td>\n",
       "      <td>MDW</td>\n",
       "      <td>OMA</td>\n",
       "      <td>423</td>\n",
       "      <td>Y</td>\n",
       "    </tr>\n",
       "  </tbody>\n",
       "</table>\n",
       "</div>"
      ],
      "text/plain": [
       "  Month DayofMonth DayOfWeek  DepTime UniqueCarrier Origin Dest  Distance  \\\n",
       "0   c-8       c-21       c-7     1934            AA    ATL  DFW       732   \n",
       "1   c-4       c-20       c-3     1548            US    PIT  MCO       834   \n",
       "2   c-9        c-2       c-5     1422            XE    RDU  CLE       416   \n",
       "3  c-11       c-25       c-6     1015            OO    DEN  MEM       872   \n",
       "4  c-10        c-7       c-6     1828            WN    MDW  OMA       423   \n",
       "\n",
       "  dep_delayed_15min  \n",
       "0                 N  \n",
       "1                 N  \n",
       "2                 N  \n",
       "3                 N  \n",
       "4                 Y  "
      ]
     },
     "execution_count": 3,
     "metadata": {},
     "output_type": "execute_result"
    }
   ],
   "source": [
    "train_df.head()"
   ]
  },
  {
   "cell_type": "code",
   "execution_count": 4,
   "metadata": {
    "_uuid": "4a0f1e18cc9b10cfd4f098183511f21722e61752"
   },
   "outputs": [
    {
     "data": {
      "text/html": [
       "<div>\n",
       "<style scoped>\n",
       "    .dataframe tbody tr th:only-of-type {\n",
       "        vertical-align: middle;\n",
       "    }\n",
       "\n",
       "    .dataframe tbody tr th {\n",
       "        vertical-align: top;\n",
       "    }\n",
       "\n",
       "    .dataframe thead th {\n",
       "        text-align: right;\n",
       "    }\n",
       "</style>\n",
       "<table border=\"1\" class=\"dataframe\">\n",
       "  <thead>\n",
       "    <tr style=\"text-align: right;\">\n",
       "      <th></th>\n",
       "      <th>Month</th>\n",
       "      <th>DayofMonth</th>\n",
       "      <th>DayOfWeek</th>\n",
       "      <th>DepTime</th>\n",
       "      <th>UniqueCarrier</th>\n",
       "      <th>Origin</th>\n",
       "      <th>Dest</th>\n",
       "      <th>Distance</th>\n",
       "    </tr>\n",
       "  </thead>\n",
       "  <tbody>\n",
       "    <tr>\n",
       "      <th>0</th>\n",
       "      <td>c-7</td>\n",
       "      <td>c-25</td>\n",
       "      <td>c-3</td>\n",
       "      <td>615</td>\n",
       "      <td>YV</td>\n",
       "      <td>MRY</td>\n",
       "      <td>PHX</td>\n",
       "      <td>598</td>\n",
       "    </tr>\n",
       "    <tr>\n",
       "      <th>1</th>\n",
       "      <td>c-4</td>\n",
       "      <td>c-17</td>\n",
       "      <td>c-2</td>\n",
       "      <td>739</td>\n",
       "      <td>WN</td>\n",
       "      <td>LAS</td>\n",
       "      <td>HOU</td>\n",
       "      <td>1235</td>\n",
       "    </tr>\n",
       "    <tr>\n",
       "      <th>2</th>\n",
       "      <td>c-12</td>\n",
       "      <td>c-2</td>\n",
       "      <td>c-7</td>\n",
       "      <td>651</td>\n",
       "      <td>MQ</td>\n",
       "      <td>GSP</td>\n",
       "      <td>ORD</td>\n",
       "      <td>577</td>\n",
       "    </tr>\n",
       "    <tr>\n",
       "      <th>3</th>\n",
       "      <td>c-3</td>\n",
       "      <td>c-25</td>\n",
       "      <td>c-7</td>\n",
       "      <td>1614</td>\n",
       "      <td>WN</td>\n",
       "      <td>BWI</td>\n",
       "      <td>MHT</td>\n",
       "      <td>377</td>\n",
       "    </tr>\n",
       "    <tr>\n",
       "      <th>4</th>\n",
       "      <td>c-6</td>\n",
       "      <td>c-6</td>\n",
       "      <td>c-3</td>\n",
       "      <td>1505</td>\n",
       "      <td>UA</td>\n",
       "      <td>ORD</td>\n",
       "      <td>STL</td>\n",
       "      <td>258</td>\n",
       "    </tr>\n",
       "  </tbody>\n",
       "</table>\n",
       "</div>"
      ],
      "text/plain": [
       "  Month DayofMonth DayOfWeek  DepTime UniqueCarrier Origin Dest  Distance\n",
       "0   c-7       c-25       c-3      615            YV    MRY  PHX       598\n",
       "1   c-4       c-17       c-2      739            WN    LAS  HOU      1235\n",
       "2  c-12        c-2       c-7      651            MQ    GSP  ORD       577\n",
       "3   c-3       c-25       c-7     1614            WN    BWI  MHT       377\n",
       "4   c-6        c-6       c-3     1505            UA    ORD  STL       258"
      ]
     },
     "execution_count": 4,
     "metadata": {},
     "output_type": "execute_result"
    }
   ],
   "source": [
    "test_df.head()"
   ]
  },
  {
   "cell_type": "markdown",
   "metadata": {
    "_uuid": "ce71f38fec3d94108609ef0cae861010ab0e8ca6"
   },
   "source": [
    "Given flight departure time, carrier's code, departure airport, destination location, and flight distance, you have to predict departure delay for more than 15 minutes. As the simplest benchmark, let's take logistic regression and two features that are easiest to take: DepTime and Distance. This will correspond to **\"simple logit baseline\"** on Public LB."
   ]
  },
  {
   "cell_type": "code",
   "execution_count": 5,
   "metadata": {
    "_uuid": "5bac98797b2bfb23851d735ec3761fc0e1401e61"
   },
   "outputs": [],
   "source": [
    "X_train, y_train = train_df[['Distance', 'DepTime']].values, train_df['dep_delayed_15min'].map({'Y': 1, 'N': 0}).values\n",
    "X_test = test_df[['Distance', 'DepTime']].values\n",
    "\n",
    "X_train_part, X_valid, y_train_part, y_valid = \\\n",
    "    train_test_split(X_train, y_train, \n",
    "                     test_size=0.3, random_state=17)"
   ]
  },
  {
   "cell_type": "code",
   "execution_count": 6,
   "metadata": {
    "_uuid": "6e99742ad807b66899de68241b60cf8310fb306c"
   },
   "outputs": [],
   "source": [
    "logit_pipe = Pipeline([('scaler', StandardScaler()),\n",
    "                       ('logit', LogisticRegression(C=1, random_state=17, solver='liblinear'))])"
   ]
  },
  {
   "cell_type": "code",
   "execution_count": 7,
   "metadata": {
    "_uuid": "309be359915c00cbad41384a08926ddf25d47c7b"
   },
   "outputs": [
    {
     "data": {
      "text/plain": [
       "0.6795691465352607"
      ]
     },
     "execution_count": 7,
     "metadata": {},
     "output_type": "execute_result"
    }
   ],
   "source": [
    "logit_pipe.fit(X_train_part, y_train_part)\n",
    "logit_valid_pred = logit_pipe.predict_proba(X_valid)[:, 1]\n",
    "\n",
    "roc_auc_score(y_valid, logit_valid_pred)"
   ]
  },
  {
   "cell_type": "markdown",
   "metadata": {},
   "source": [
    "XGB"
   ]
  },
  {
   "cell_type": "code",
   "execution_count": 293,
   "metadata": {},
   "outputs": [
    {
     "data": {
      "text/html": [
       "<div>\n",
       "<style scoped>\n",
       "    .dataframe tbody tr th:only-of-type {\n",
       "        vertical-align: middle;\n",
       "    }\n",
       "\n",
       "    .dataframe tbody tr th {\n",
       "        vertical-align: top;\n",
       "    }\n",
       "\n",
       "    .dataframe thead th {\n",
       "        text-align: right;\n",
       "    }\n",
       "</style>\n",
       "<table border=\"1\" class=\"dataframe\">\n",
       "  <thead>\n",
       "    <tr style=\"text-align: right;\">\n",
       "      <th></th>\n",
       "      <th>ident</th>\n",
       "      <th>type</th>\n",
       "      <th>name</th>\n",
       "      <th>elevation_ft</th>\n",
       "      <th>continent</th>\n",
       "      <th>iso_country</th>\n",
       "      <th>iso_region</th>\n",
       "      <th>municipality</th>\n",
       "      <th>gps_code</th>\n",
       "      <th>iata_code</th>\n",
       "      <th>local_code</th>\n",
       "      <th>coordinates</th>\n",
       "    </tr>\n",
       "  </thead>\n",
       "  <tbody>\n",
       "    <tr>\n",
       "      <th>15026</th>\n",
       "      <td>CN-0011</td>\n",
       "      <td>closed</td>\n",
       "      <td>[Duplicate] Gu-Lian Airport</td>\n",
       "      <td>1836.0</td>\n",
       "      <td>AS</td>\n",
       "      <td>CN</td>\n",
       "      <td>CN-23</td>\n",
       "      <td>Mohe</td>\n",
       "      <td>ZYMH</td>\n",
       "      <td>OHE</td>\n",
       "      <td>NaN</td>\n",
       "      <td>122.427768, 52.913917</td>\n",
       "    </tr>\n",
       "    <tr>\n",
       "      <th>37175</th>\n",
       "      <td>OHE</td>\n",
       "      <td>closed</td>\n",
       "      <td>[Duplicate] Gu-Lian Airport</td>\n",
       "      <td>1836.0</td>\n",
       "      <td>AS</td>\n",
       "      <td>CN</td>\n",
       "      <td>CN-23</td>\n",
       "      <td>Mohe</td>\n",
       "      <td>ZYMH</td>\n",
       "      <td>OHE</td>\n",
       "      <td>NaN</td>\n",
       "      <td>122.429056, 52.913244</td>\n",
       "    </tr>\n",
       "    <tr>\n",
       "      <th>54723</th>\n",
       "      <td>ZYMH</td>\n",
       "      <td>medium_airport</td>\n",
       "      <td>Gu-Lian Airport</td>\n",
       "      <td>1836.0</td>\n",
       "      <td>AS</td>\n",
       "      <td>CN</td>\n",
       "      <td>CN-23</td>\n",
       "      <td>Mohe</td>\n",
       "      <td>ZYMH</td>\n",
       "      <td>OHE</td>\n",
       "      <td>NaN</td>\n",
       "      <td>122.43, 52.912777777799995</td>\n",
       "    </tr>\n",
       "  </tbody>\n",
       "</table>\n",
       "</div>"
      ],
      "text/plain": [
       "         ident            type                         name  elevation_ft  \\\n",
       "15026  CN-0011          closed  [Duplicate] Gu-Lian Airport        1836.0   \n",
       "37175      OHE          closed  [Duplicate] Gu-Lian Airport        1836.0   \n",
       "54723     ZYMH  medium_airport              Gu-Lian Airport        1836.0   \n",
       "\n",
       "      continent iso_country iso_region municipality gps_code iata_code  \\\n",
       "15026        AS          CN      CN-23         Mohe     ZYMH       OHE   \n",
       "37175        AS          CN      CN-23         Mohe     ZYMH       OHE   \n",
       "54723        AS          CN      CN-23         Mohe     ZYMH       OHE   \n",
       "\n",
       "      local_code                 coordinates  \n",
       "15026        NaN       122.427768, 52.913917  \n",
       "37175        NaN       122.429056, 52.913244  \n",
       "54723        NaN  122.43, 52.912777777799995  "
      ]
     },
     "execution_count": 293,
     "metadata": {},
     "output_type": "execute_result"
    }
   ],
   "source": [
    "df_airport[df_airport['iata_code'] == 'OHE']"
   ]
  },
  {
   "cell_type": "code",
   "execution_count": 295,
   "metadata": {},
   "outputs": [],
   "source": [
    "#df_airport = pd.read_csv('airports.dat', names=['ID', 'Name', 'City', 'Country', 'Code', 'Code2', 'Lat', 'Long', 'Altitude', 'Timezone', 'DST', 'Type', 'Source'], index_col=False)\n",
    "df_airport = pd.read_csv('airport-codes.csv')\n",
    "df_airport = df_airport[df_airport['type'] != 'closed']"
   ]
  },
  {
   "cell_type": "code",
   "execution_count": 324,
   "metadata": {},
   "outputs": [],
   "source": [
    "df = pd.concat([train_df.iloc[:, :-1], test_df])\n",
    "df['Month'] = df['Month'].str.replace('c-', '').astype(int)\n",
    "df['DayofMonth'] = df['DayofMonth'].str.replace('c-', '').astype(int)\n",
    "df['DayOfWeek'] = df['DayOfWeek'].str.replace('c-', '').astype(int)\n",
    "df['dow_sin'] = df['DayOfWeek'].apply(lambda x: np.sin(2*np.pi*x/7))\n",
    "df['dow_cos'] = df['DayOfWeek'].apply(lambda x: np.cos(2*np.pi*x/7))\n",
    "df['month_sin'] = df['Month'].apply(lambda x: np.sin(2*np.pi*x/12))\n",
    "df['month_cos'] = df['Month'].apply(lambda x: np.cos(2*np.pi*x/12))\n",
    "df['dom_sin'] = df['DayofMonth'].apply(lambda x: np.sin(2*np.pi*x/31))\n",
    "df['dom_cos'] = df['DayofMonth'].apply(lambda x: np.cos(2*np.pi*x/31))\n",
    "df['isWeekend'] = (df['DayOfWeek'] >= 6).astype(int)\n",
    "df['Winter'] = ((df['Month'] >= 12) & (df['Month'] <= 2)).astype(int)\n",
    "df['Spring'] = ((df['Month'] >= 3) & (df['Month'] <= 5)).astype(int)\n",
    "df['Summer'] = ((df['Month'] >= 6) & (df['Month'] <= 8)).astype(int)\n",
    "df['Autumn'] = ((df['Month'] >= 9) & (df['Month'] <= 11)).astype(int)\n",
    "df = pd.merge(df, df_airport.loc[:, ['iata_code', 'iso_country', 'iso_region']], how='left', left_on='Origin', right_on='iata_code', sort=False)\n",
    "df = pd.merge(df, df_airport.loc[:, ['iata_code', 'iso_country', 'iso_region']], how='left', left_on='Dest', right_on='iata_code', suffixes=('_origin', '_dest'), sort=False)"
   ]
  },
  {
   "cell_type": "code",
   "execution_count": 325,
   "metadata": {},
   "outputs": [],
   "source": [
    "codes = df['Origin'].append(df['Dest'])\n",
    "regions = df['iso_region_origin'].append(df['iso_region_dest'])\n",
    "code_dict = {**{x: x for x in codes.value_counts()[(codes.value_counts() >= 1000)].index.values}, \n",
    "             **{x : 'Other' for x in codes.value_counts()[(codes.value_counts() < 1000)].index.values}}\n",
    "region_dict = {**{x: x for x in regions.value_counts()[(regions.value_counts() >= 1000)].index.values}, \n",
    "               **{x : 'Other' for x in regions.value_counts()[(regions.value_counts() < 1000)].index.values}}"
   ]
  },
  {
   "cell_type": "code",
   "execution_count": 326,
   "metadata": {},
   "outputs": [],
   "source": [
    "df['Origin'] = df['Origin'].map(code_dict)\n",
    "df['Dest'] = df['Dest'].map(code_dict)\n",
    "df['iso_region_origin'] = df['iso_region_origin'].map(region_dict)\n",
    "df['iso_region_dest'] = df['iso_region_dest'].map(region_dict)\n",
    "df.drop(['Month', 'DayofMonth', 'DayOfWeek', 'iata_code_origin', 'iata_code_dest', 'iso_country_origin', 'iso_country_dest'], axis=1, inplace=True)\n",
    "df = pd.get_dummies(df, columns=['UniqueCarrier', 'Origin', 'Dest', 'iso_region_origin', 'iso_region_dest'])"
   ]
  },
  {
   "cell_type": "code",
   "execution_count": 327,
   "metadata": {},
   "outputs": [],
   "source": [
    "df_train = df.iloc[:train_df.shape[0]]\n",
    "df_test = df.iloc[train_df.shape[0]:]\n",
    "y_train = train_df['dep_delayed_15min'].map({'Y':1, 'N':0}).values\n",
    "X_train_part, X_valid, y_train_part, y_valid = \\\n",
    "    train_test_split(df_train, y_train, \n",
    "                     test_size=0.3, random_state=17)"
   ]
  },
  {
   "cell_type": "code",
   "execution_count": 328,
   "metadata": {},
   "outputs": [],
   "source": [
    "scaler = StandardScaler()\n",
    "scaled = scaler.fit_transform(X_train_part.loc[:,['DepTime', 'Distance']])\n",
    "X_train_part['DepTime'] = scaled[:, 0]\n",
    "X_train_part['Distance'] = scaled[:, 1]"
   ]
  },
  {
   "cell_type": "code",
   "execution_count": 329,
   "metadata": {},
   "outputs": [],
   "source": [
    "scaled_valid = scaler.transform(X_valid.loc[:,['DepTime', 'Distance']])\n",
    "X_valid['DepTime'] = scaled_valid[:, 0]\n",
    "X_valid['Distance'] = scaled_valid[:, 1]"
   ]
  },
  {
   "cell_type": "code",
   "execution_count": 330,
   "metadata": {},
   "outputs": [],
   "source": [
    "lgbtree = lgb.LGBMClassifier(n_estimators=700, subsample=.75, colsample_bytree=.5, reg_lambda=10, num_leaves=75)"
   ]
  },
  {
   "cell_type": "code",
   "execution_count": 331,
   "metadata": {},
   "outputs": [
    {
     "name": "stdout",
     "output_type": "stream",
     "text": [
      "CPU times: user 25.8 s, sys: 2.47 s, total: 28.2 s\n",
      "Wall time: 4.82 s\n"
     ]
    },
    {
     "data": {
      "text/plain": [
       "LGBMClassifier(boosting_type='gbdt', class_weight=None, colsample_bytree=0.5,\n",
       "        importance_type='split', learning_rate=0.1, max_depth=-1,\n",
       "        min_child_samples=20, min_child_weight=0.001, min_split_gain=0.0,\n",
       "        n_estimators=700, n_jobs=-1, num_leaves=75, objective=None,\n",
       "        random_state=None, reg_alpha=0.0, reg_lambda=10, silent=True,\n",
       "        subsample=0.75, subsample_for_bin=200000, subsample_freq=0)"
      ]
     },
     "execution_count": 331,
     "metadata": {},
     "output_type": "execute_result"
    }
   ],
   "source": [
    "%%time\n",
    "lgbtree.fit(X_train_part, y_train_part)"
   ]
  },
  {
   "cell_type": "code",
   "execution_count": 332,
   "metadata": {},
   "outputs": [
    {
     "data": {
      "text/plain": [
       "0.7502031931097103"
      ]
     },
     "execution_count": 332,
     "metadata": {},
     "output_type": "execute_result"
    }
   ],
   "source": [
    "lgbtree_valid_pred = lgbtree.predict_proba(X_valid)[:, 1]\n",
    "roc_auc_score(y_valid, lgbtree_valid_pred)"
   ]
  },
  {
   "cell_type": "code",
   "execution_count": 333,
   "metadata": {},
   "outputs": [],
   "source": [
    "xgbtree = xgb.XGBClassifier(max_depth=7, n_estimators=700, colsample_bytree=.5,\n",
    "                            subsample=.75, reg_lambda=10)"
   ]
  },
  {
   "cell_type": "code",
   "execution_count": 334,
   "metadata": {},
   "outputs": [
    {
     "name": "stdout",
     "output_type": "stream",
     "text": [
      "CPU times: user 10min 48s, sys: 3.44 s, total: 10min 51s\n",
      "Wall time: 10min 54s\n"
     ]
    },
    {
     "data": {
      "text/plain": [
       "XGBClassifier(base_score=0.5, booster='gbtree', colsample_bylevel=1,\n",
       "       colsample_bytree=0.5, gamma=0, learning_rate=0.1, max_delta_step=0,\n",
       "       max_depth=7, min_child_weight=1, missing=None, n_estimators=700,\n",
       "       n_jobs=1, nthread=None, objective='binary:logistic', random_state=0,\n",
       "       reg_alpha=0, reg_lambda=10, scale_pos_weight=1, seed=None,\n",
       "       silent=True, subsample=0.75)"
      ]
     },
     "execution_count": 334,
     "metadata": {},
     "output_type": "execute_result"
    }
   ],
   "source": [
    "%%time\n",
    "xgbtree.fit(X_train_part, y_train_part)"
   ]
  },
  {
   "cell_type": "code",
   "execution_count": 335,
   "metadata": {},
   "outputs": [
    {
     "data": {
      "text/plain": [
       "0.7498250461390371"
      ]
     },
     "execution_count": 335,
     "metadata": {},
     "output_type": "execute_result"
    }
   ],
   "source": [
    "xgbtree_valid_pred = xgbtree.predict_proba(X_valid)[:, 1]\n",
    "roc_auc_score(y_valid, xgbtree_valid_pred)"
   ]
  },
  {
   "cell_type": "code",
   "execution_count": 336,
   "metadata": {},
   "outputs": [
    {
     "data": {
      "text/plain": [
       "0.7528888377895263"
      ]
     },
     "execution_count": 336,
     "metadata": {},
     "output_type": "execute_result"
    }
   ],
   "source": [
    "ensemble_valid_pred = np.mean(np.vstack([xgbtree_valid_pred, lgbtree_valid_pred]), axis=0)\n",
    "roc_auc_score(y_valid, ensemble_valid_pred)"
   ]
  },
  {
   "cell_type": "markdown",
   "metadata": {},
   "source": [
    "Fit final model as ensemble of XGBoost and LightGBM"
   ]
  },
  {
   "cell_type": "code",
   "execution_count": 337,
   "metadata": {},
   "outputs": [],
   "source": [
    "X_train = df_train\n",
    "X_test = df_test"
   ]
  },
  {
   "cell_type": "code",
   "execution_count": 338,
   "metadata": {},
   "outputs": [],
   "source": [
    "scaler_fin = StandardScaler()\n",
    "scaled_fin = scaler_fin.fit_transform(X_train.loc[:,['DepTime', 'Distance']])\n",
    "X_train['DepTime'] = scaled_fin[:, 0]\n",
    "X_train['Distance'] = scaled_fin[:, 1]"
   ]
  },
  {
   "cell_type": "code",
   "execution_count": 339,
   "metadata": {},
   "outputs": [],
   "source": [
    "scaled_test = scaler_fin.transform(X_test.loc[:,['DepTime', 'Distance']])\n",
    "X_test['DepTime'] = scaled_test[:, 0]\n",
    "X_test['Distance'] = scaled_test[:, 1]"
   ]
  },
  {
   "cell_type": "code",
   "execution_count": 340,
   "metadata": {},
   "outputs": [],
   "source": [
    "xgb_fin = xgb.XGBClassifier(max_depth=7, n_estimators=700, colsample_bytree=.5,\n",
    "                            subsample=.75, reg_lambda=10)"
   ]
  },
  {
   "cell_type": "code",
   "execution_count": 341,
   "metadata": {},
   "outputs": [
    {
     "name": "stdout",
     "output_type": "stream",
     "text": [
      "CPU times: user 15min 18s, sys: 4.54 s, total: 15min 23s\n",
      "Wall time: 15min 28s\n"
     ]
    },
    {
     "data": {
      "text/plain": [
       "XGBClassifier(base_score=0.5, booster='gbtree', colsample_bylevel=1,\n",
       "       colsample_bytree=0.5, gamma=0, learning_rate=0.1, max_delta_step=0,\n",
       "       max_depth=7, min_child_weight=1, missing=None, n_estimators=700,\n",
       "       n_jobs=1, nthread=None, objective='binary:logistic', random_state=0,\n",
       "       reg_alpha=0, reg_lambda=10, scale_pos_weight=1, seed=None,\n",
       "       silent=True, subsample=0.75)"
      ]
     },
     "execution_count": 341,
     "metadata": {},
     "output_type": "execute_result"
    }
   ],
   "source": [
    "%%time\n",
    "xgb_fin.fit(X_train, y_train)"
   ]
  },
  {
   "cell_type": "code",
   "execution_count": 342,
   "metadata": {},
   "outputs": [],
   "source": [
    "lgb_fin = lgb.LGBMClassifier(**lgb_mdl.best_params_)"
   ]
  },
  {
   "cell_type": "code",
   "execution_count": 343,
   "metadata": {},
   "outputs": [
    {
     "name": "stdout",
     "output_type": "stream",
     "text": [
      "CPU times: user 46.2 s, sys: 4.11 s, total: 50.3 s\n",
      "Wall time: 8.12 s\n"
     ]
    },
    {
     "data": {
      "text/plain": [
       "LGBMClassifier(boosting_type='gbdt', class_weight=None, colsample_bytree=0.5,\n",
       "        importance_type='split', learning_rate=0.01, max_depth=-1,\n",
       "        min_child_samples=20, min_child_weight=0.001, min_split_gain=0.0,\n",
       "        n_estimators=700, n_jobs=-1, num_leaves=91, objective=None,\n",
       "        random_state=None, reg_alpha=1.0, reg_lambda=1.0, silent=True,\n",
       "        subsample=1, subsample_for_bin=200000, subsample_freq=0)"
      ]
     },
     "execution_count": 343,
     "metadata": {},
     "output_type": "execute_result"
    }
   ],
   "source": [
    "%%time\n",
    "lgb_fin.fit(X_train, y_train)"
   ]
  },
  {
   "cell_type": "code",
   "execution_count": 344,
   "metadata": {},
   "outputs": [],
   "source": [
    "xgb_pred = xgb_fin.predict_proba(X_test)[:, 1]\n",
    "lgb_pred = lgb_fin.predict_proba(X_test)[:, 1]\n",
    "ensemble_pred = np.mean(np.vstack([xgb_pred, lgb_pred]), axis=0)\n",
    "pd.Series(ensemble_pred, name='dep_delayed_15min').to_csv('ensemble.csv', index_label='id', header=True)"
   ]
  },
  {
   "cell_type": "markdown",
   "metadata": {},
   "source": [
    "Cross-validation to tune XGBoost params"
   ]
  },
  {
   "cell_type": "code",
   "execution_count": 43,
   "metadata": {},
   "outputs": [],
   "source": [
    "cv = StratifiedKFold(n_splits=3)\n",
    "params = {'max_depth' : [5, 7],\n",
    "          'n_estimators' : [500],\n",
    "          'colsample_bytree' : [.5, .75],\n",
    "          'subsample' : [.75, 1],\n",
    "          'reg_lambda' : np.logspace(0, 2, 3),\n",
    "          'reg_alpha' : np.logspace(0, 2, 3),\n",
    "          'n_jobs' : [-1]}\n",
    "xgbtree = xgb.XGBClassifier()\n",
    "xgb_mdl = RandomizedSearchCV(xgbtree, params, cv=cv)"
   ]
  },
  {
   "cell_type": "code",
   "execution_count": 44,
   "metadata": {},
   "outputs": [
    {
     "name": "stdout",
     "output_type": "stream",
     "text": [
      "Wall time: 2h 44min 5s\n"
     ]
    },
    {
     "data": {
      "text/plain": [
       "RandomizedSearchCV(cv=StratifiedKFold(n_splits=3, random_state=None, shuffle=False),\n",
       "          error_score='raise-deprecating',\n",
       "          estimator=XGBClassifier(base_score=0.5, booster='gbtree', colsample_bylevel=1,\n",
       "       colsample_bytree=1, gamma=0, learning_rate=0.1, max_delta_step=0,\n",
       "       max_depth=3, min_child_weight=1, missing=None, n_estimators=100,\n",
       "       n_jobs=1, nthread=None, objective='binary:logistic', random_state=0,\n",
       "       reg_alpha=0, reg_lambda=1, scale_pos_weight=1, seed=None,\n",
       "       silent=True, subsample=1),\n",
       "          fit_params=None, iid='warn', n_iter=10, n_jobs=None,\n",
       "          param_distributions={'max_depth': [5, 7], 'n_estimators': [500], 'colsample_bytree': [0.5, 0.75], 'subsample': [0.75, 1], 'reg_lambda': array([  1.,  10., 100.]), 'reg_alpha': array([  1.,  10., 100.]), 'n_jobs': [-1]},\n",
       "          pre_dispatch='2*n_jobs', random_state=None, refit=True,\n",
       "          return_train_score='warn', scoring=None, verbose=0)"
      ]
     },
     "execution_count": 44,
     "metadata": {},
     "output_type": "execute_result"
    }
   ],
   "source": [
    "%%time\n",
    "xgb_mdl.fit(X_train_part, y_train_part)"
   ]
  },
  {
   "cell_type": "code",
   "execution_count": 45,
   "metadata": {},
   "outputs": [
    {
     "data": {
      "text/plain": [
       "0.7461536754093123"
      ]
     },
     "execution_count": 45,
     "metadata": {},
     "output_type": "execute_result"
    }
   ],
   "source": [
    "xgbmdl_valid_pred = xgb_mdl.predict_proba(X_valid)[:, 1]\n",
    "roc_auc_score(y_valid, xgbmdl_valid_pred)"
   ]
  },
  {
   "cell_type": "code",
   "execution_count": 93,
   "metadata": {},
   "outputs": [],
   "source": [
    "cv = StratifiedKFold(n_splits=5)\n",
    "params = {'num_leaves' : [31, 51, 71, 91],\n",
    "          'n_estimators' : [700],\n",
    "          'colsample_bytree' : [.5, .75, 1],\n",
    "          'subsample' : [.75, 1],\n",
    "          'reg_lambda' : np.logspace(0, 2, 3),\n",
    "          'reg_alpha' : np.logspace(0, 2, 3),\n",
    "          'min_child_samples' : [20, 35, 50],\n",
    "          'learning_rate' : [.01, .05, .1]}\n",
    "lgbtree2 = lgb.LGBMClassifier()\n",
    "lgb_mdl = RandomizedSearchCV(lgbtree2, params, cv=cv)"
   ]
  },
  {
   "cell_type": "code",
   "execution_count": 94,
   "metadata": {},
   "outputs": [
    {
     "name": "stdout",
     "output_type": "stream",
     "text": [
      "CPU times: user 25min 19s, sys: 2min 7s, total: 27min 26s\n",
      "Wall time: 5min 49s\n"
     ]
    },
    {
     "data": {
      "text/plain": [
       "RandomizedSearchCV(cv=StratifiedKFold(n_splits=5, random_state=None, shuffle=False),\n",
       "          error_score='raise-deprecating',\n",
       "          estimator=LGBMClassifier(boosting_type='gbdt', class_weight=None, colsample_bytree=1.0,\n",
       "        importance_type='split', learning_rate=0.1, max_depth=-1,\n",
       "        min_child_samples=20, min_child_weight=0.001, min_split_gain=0.0,\n",
       "        n_estimators=100, n_jobs=-1, num_leaves=31, objective=None,\n",
       "        random_state=None, reg_alpha=0.0, reg_lambda=0.0, silent=True,\n",
       "        subsample=1.0, subsample_for_bin=200000, subsample_freq=0),\n",
       "          fit_params=None, iid='warn', n_iter=10, n_jobs=None,\n",
       "          param_distributions={'num_leaves': [31, 51, 71, 91], 'n_estimators': [700], 'colsample_bytree': [0.5, 0.75, 1], 'subsample': [0.75, 1], 'reg_lambda': array([  1.,  10., 100.]), 'reg_alpha': array([  1.,  10., 100.]), 'min_child_samples': [20, 35, 50], 'learning_rate': [0.01, 0.05, 0.1]},\n",
       "          pre_dispatch='2*n_jobs', random_state=None, refit=True,\n",
       "          return_train_score='warn', scoring=None, verbose=0)"
      ]
     },
     "execution_count": 94,
     "metadata": {},
     "output_type": "execute_result"
    }
   ],
   "source": [
    "%%time\n",
    "lgb_mdl.fit(X_train_part, y_train_part)"
   ]
  },
  {
   "cell_type": "code",
   "execution_count": 96,
   "metadata": {},
   "outputs": [
    {
     "data": {
      "text/plain": [
       "{'subsample': 1,\n",
       " 'reg_lambda': 1.0,\n",
       " 'reg_alpha': 1.0,\n",
       " 'num_leaves': 91,\n",
       " 'n_estimators': 700,\n",
       " 'min_child_samples': 20,\n",
       " 'learning_rate': 0.01,\n",
       " 'colsample_bytree': 0.5}"
      ]
     },
     "execution_count": 96,
     "metadata": {},
     "output_type": "execute_result"
    }
   ],
   "source": [
    "lgb_mdl.best_params_"
   ]
  },
  {
   "cell_type": "code",
   "execution_count": 95,
   "metadata": {},
   "outputs": [
    {
     "data": {
      "text/plain": [
       "0.7467952532963773"
      ]
     },
     "execution_count": 95,
     "metadata": {},
     "output_type": "execute_result"
    }
   ],
   "source": [
    "lgb_valid_pred = lgb_mdl.predict_proba(X_valid)[:, 1]\n",
    "roc_auc_score(y_valid, lgb_valid_pred)"
   ]
  }
 ],
 "metadata": {
  "kernelspec": {
   "display_name": "Python 3",
   "language": "python",
   "name": "python3"
  },
  "language_info": {
   "codemirror_mode": {
    "name": "ipython",
    "version": 3
   },
   "file_extension": ".py",
   "mimetype": "text/x-python",
   "name": "python",
   "nbconvert_exporter": "python",
   "pygments_lexer": "ipython3",
   "version": "3.6.4"
  }
 },
 "nbformat": 4,
 "nbformat_minor": 2
}
