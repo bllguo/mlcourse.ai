{
 "cells": [
  {
   "cell_type": "markdown",
   "metadata": {},
   "source": [
    "<center>\n",
    "<img src=\"../../img/ods_stickers.jpg\" />\n",
    "    \n",
    "## [mlcourse.ai](https://mlcourse.ai) – Open Machine Learning Course \n",
    "Author: [Yury Kashnitskiy](https://yorko.github.io) (@yorko). This material is subject to the terms and conditions of the [Creative Commons CC BY-NC-SA 4.0](https://creativecommons.org/licenses/by-nc-sa/4.0/) license. Free use is permitted for any non-commercial purpose. This material is a translated version of the Capstone project (by the same author) from specialization \"Machine learning and data analysis\" by Yandex and MIPT. No solutions shared."
   ]
  },
  {
   "cell_type": "markdown",
   "metadata": {},
   "source": [
    "# <center>Week 4.  Classification algorithms comparison\n",
    "\n",
    "Finally, we are going to train classification models, compare several algorithms via cross-validation, and figure out which session's parameters (*session_length* и *window_size*) it is better to use. Also, for the chosen algorithm, we will plot learning curves (which show the dependecy of model performance on the amount of training data) and validation curves (which show the dependency of model performance on one of it's hyperparameters).\n",
    "\n",
    "**Week 4 roadmap:**\n",
    "- Part 1. Different algorithms comparison on sessions of 10 websites\n",
    "- Part 2. Hyperparameter tuning – session_length and window_size\n",
    "- Part 3. Particular user identification and learning curves\n",
    "\n",
    "**You might find following links useful:**\n",
    "   - [Hyperparameter Optimization in Machine Learning Models](https://www.datacamp.com/community/tutorials/parameter-optimization-machine-learning-models)\n",
    "   - [Optimizing your model with cross-validation](http://blog.kaggle.com/2015/06/29/scikit-learn-video-7-optimizing-your-model-with-cross-validation/)"
   ]
  },
  {
   "cell_type": "markdown",
   "metadata": {},
   "source": [
    "**Your task**\n",
    "1. Fill in code in provided notebook\n",
    "2. Choose the answers in the [form](https://docs.google.com/forms/d/10kYgawyf9kId7VDOnBhQ6PH64rU2HR0CmTy5CDwy2Vo)"
   ]
  },
  {
   "cell_type": "code",
   "execution_count": 1,
   "metadata": {},
   "outputs": [],
   "source": [
    "# pip install watermark\n",
    "%load_ext watermark"
   ]
  },
  {
   "cell_type": "code",
   "execution_count": 2,
   "metadata": {},
   "outputs": [
    {
     "name": "stdout",
     "output_type": "stream",
     "text": [
      "CPython 3.7.0\n",
      "IPython 7.1.1\n",
      "\n",
      "numpy 1.15.4\n",
      "scipy 1.1.0\n",
      "pandas 0.23.4\n",
      "matplotlib 3.0.2\n",
      "statsmodels 0.9.0\n",
      "sklearn 0.20.0\n",
      "\n",
      "compiler   : GCC 7.3.0\n",
      "system     : Linux\n",
      "release    : 4.17.14-041714-generic\n",
      "machine    : x86_64\n",
      "processor  : x86_64\n",
      "CPU cores  : 12\n",
      "interpreter: 64bit\n",
      "Git hash   : d2fa7c7dfca896055c40b5fea2f513a384ff1fda\n"
     ]
    }
   ],
   "source": [
    "%watermark -v -m -p numpy,scipy,pandas,matplotlib,statsmodels,sklearn -g"
   ]
  },
  {
   "cell_type": "code",
   "execution_count": 56,
   "metadata": {},
   "outputs": [],
   "source": [
    "from __future__ import division, print_function\n",
    "# disable Anaconda warnings\n",
    "import warnings\n",
    "warnings.filterwarnings('ignore')\n",
    "from time import time\n",
    "import itertools\n",
    "import os\n",
    "import numpy as np\n",
    "import pandas as pd\n",
    "import seaborn as sns\n",
    "sns.set()\n",
    "from matplotlib import pyplot as plt\n",
    "import pickle\n",
    "from scipy.sparse import csr_matrix\n",
    "from sklearn.model_selection import train_test_split, cross_val_score, StratifiedKFold, GridSearchCV\n",
    "from sklearn.metrics import accuracy_score, f1_score\n",
    "%matplotlib inline"
   ]
  },
  {
   "cell_type": "code",
   "execution_count": 2,
   "metadata": {},
   "outputs": [],
   "source": [
    "# Change the path to data\n",
    "PATH_TO_DATA = '../../data/capstone_user_identification/'"
   ]
  },
  {
   "cell_type": "markdown",
   "metadata": {},
   "source": [
    "## Part 1. Different algorithms comparison on sessions of 10 websites"
   ]
  },
  {
   "cell_type": "markdown",
   "metadata": {},
   "source": [
    "**Load *X_sparse_10users* and *y_10users* objects serialized earlier, which correspond to 10 users data.**"
   ]
  },
  {
   "cell_type": "code",
   "execution_count": 3,
   "metadata": {},
   "outputs": [],
   "source": [
    "#You might wanna check the `encoding` param if you face any error while opening the .pkl files..\n",
    "with open(os.path.join(PATH_TO_DATA, \n",
    "         'X_sparse_10users.pkl'), 'rb') as X_sparse_10users_pkl:\n",
    "    X_sparse_10users = pickle.load(X_sparse_10users_pkl)\n",
    "with open(os.path.join(PATH_TO_DATA, \n",
    "                       'y_10users.pkl'), 'rb') as y_10users_pkl:\n",
    "    y_10users = pickle.load(y_10users_pkl)"
   ]
  },
  {
   "cell_type": "markdown",
   "metadata": {},
   "source": [
    "**There are more than 14 thousand sessions and almost 5 thousand unique websites.**"
   ]
  },
  {
   "cell_type": "code",
   "execution_count": 4,
   "metadata": {},
   "outputs": [
    {
     "data": {
      "text/plain": [
       "(14061, 4913)"
      ]
     },
     "execution_count": 4,
     "metadata": {},
     "output_type": "execute_result"
    }
   ],
   "source": [
    "X_sparse_10users.shape"
   ]
  },
  {
   "cell_type": "markdown",
   "metadata": {},
   "source": [
    "**Split the data into two parts. We are going to use the first part for cross-validation, second part will be used to evaluate performance of the model that we will end up with after cross-validation.**"
   ]
  },
  {
   "cell_type": "code",
   "execution_count": 5,
   "metadata": {},
   "outputs": [],
   "source": [
    "X_train, X_valid, y_train, y_valid = train_test_split(X_sparse_10users, y_10users, \n",
    "                                                      test_size=0.3, \n",
    "                                                      random_state=17, stratify=y_10users)"
   ]
  },
  {
   "cell_type": "markdown",
   "metadata": {},
   "source": [
    "**Define cross-validation: 3-fold, with shuffle, random_state=17 – for reproducibility.**"
   ]
  },
  {
   "cell_type": "code",
   "execution_count": 6,
   "metadata": {},
   "outputs": [],
   "source": [
    "skf = StratifiedKFold(n_splits=3, shuffle=True, random_state=17)"
   ]
  },
  {
   "cell_type": "markdown",
   "metadata": {},
   "source": [
    "**Utility function to plot validation curves after running `GridSearchCV` (or `RandomizedCV`).**"
   ]
  },
  {
   "cell_type": "code",
   "execution_count": 7,
   "metadata": {},
   "outputs": [],
   "source": [
    "def plot_validation_curves(param_values, grid_cv_results_):\n",
    "    \n",
    "    train_mu, train_std = grid_cv_results_['mean_train_score'], grid_cv_results_['std_train_score']\n",
    "    valid_mu, valid_std = grid_cv_results_['mean_test_score'], grid_cv_results_['std_test_score']\n",
    "    train_line = plt.plot(param_values, train_mu, '-', label='train', color='green')\n",
    "    valid_line = plt.plot(param_values, valid_mu, '-', label='test', color='red')\n",
    "    plt.fill_between(param_values, train_mu - train_std, train_mu + train_std, edgecolor='none',\n",
    "                     facecolor=train_line[0].get_color(), alpha=0.2)\n",
    "    plt.fill_between(param_values, valid_mu - valid_std, valid_mu + valid_std, edgecolor='none',\n",
    "                     facecolor=valid_line[0].get_color(), alpha=0.2)\n",
    "    plt.legend()"
   ]
  },
  {
   "cell_type": "markdown",
   "metadata": {},
   "source": [
    "**1. Train `KNeighborsClassifier` with 100 nearest neighbours (leave other parameters default values, only set `n_jobs = -1` for parallelization) and compare model's mean accuracy during 3-fold cross-validation (for reproducibility use `skf` object) on `(X_train, y_train)` and model's accuracy on `(X_valid, y_valid)`.**"
   ]
  },
  {
   "cell_type": "markdown",
   "metadata": {},
   "source": [
    "**<font color='red'>Question 1. </font> Evaluate KNeighborsClassifier's mean accuracy during cross-validation and model's accuracy on the validation dataset. Round your answers up to the third digit after a decimal point. Write your answers with a space between them.**"
   ]
  },
  {
   "cell_type": "code",
   "execution_count": 8,
   "metadata": {
    "collapsed": true
   },
   "outputs": [],
   "source": [
    "from sklearn.neighbors import KNeighborsClassifier"
   ]
  },
  {
   "cell_type": "code",
   "execution_count": 74,
   "metadata": {
    "collapsed": true
   },
   "outputs": [
    {
     "name": "stdout",
     "output_type": "stream",
     "text": [
      "0.5647188870063362 0.584024650391088\n"
     ]
    }
   ],
   "source": [
    "knn = KNeighborsClassifier(n_neighbors=100, n_jobs=-1)\n",
    "scores_knn = cross_val_score(knn, X_train, y_train, cv=skf)\n",
    "knn.fit(X_train, y_train)\n",
    "print(np.mean(scores_knn), knn.score(X_valid, y_valid))"
   ]
  },
  {
   "cell_type": "markdown",
   "metadata": {},
   "source": [
    "**2. Train a random forest (`RandomForestClassifier`) consisting of 100 trees (for reproducibility use `random_state`=17). Compare model's OOB-score on and its accuracy on `(X_valid, y_valid)`. Use `n_jobs = -1` for parallelization.**"
   ]
  },
  {
   "cell_type": "markdown",
   "metadata": {},
   "source": [
    "**<font color='red'>Question 2. </font> Evaluate `RandomForestClassifier` Out-of-Bag aka OOB score and its accuracy on the validation dataset. Round your answers up to the third digit after a decimal point. Write your answers with a space between them.**"
   ]
  },
  {
   "cell_type": "code",
   "execution_count": 20,
   "metadata": {
    "collapsed": true
   },
   "outputs": [],
   "source": [
    "from sklearn.ensemble import RandomForestClassifier"
   ]
  },
  {
   "cell_type": "code",
   "execution_count": 75,
   "metadata": {
    "collapsed": true
   },
   "outputs": [
    {
     "name": "stdout",
     "output_type": "stream",
     "text": [
      "0.7172322698638488 0.7312159279450107\n"
     ]
    }
   ],
   "source": [
    "forest = RandomForestClassifier(n_estimators=100, n_jobs=-1, random_state=17, oob_score=True)\n",
    "forest.fit(X_train, y_train)\n",
    "print(forest.oob_score_, forest.score(X_valid, y_valid))"
   ]
  },
  {
   "cell_type": "markdown",
   "metadata": {},
   "source": [
    "**3. Train logistic regression with default C value and `random_state`=17. Compare model's mean accuracy during 3-fold cross-validation (don't forget to use `skf` object) on `(X_train, y_train)` and model's accuracy on `(X_valid, y_valid)`. Use `n_jobs = -1` for parallelization.**"
   ]
  },
  {
   "cell_type": "code",
   "execution_count": 28,
   "metadata": {
    "collapsed": true
   },
   "outputs": [],
   "source": [
    "from sklearn.linear_model import LogisticRegression, LogisticRegressionCV"
   ]
  },
  {
   "cell_type": "code",
   "execution_count": 77,
   "metadata": {},
   "outputs": [
    {
     "name": "stdout",
     "output_type": "stream",
     "text": [
      "0.7610267543665875 0.7817018250770325\n"
     ]
    }
   ],
   "source": [
    "logit = LogisticRegression(random_state=17, n_jobs=-1)\n",
    "scores_lr = cross_val_score(logit, X_train, y_train, cv=skf)\n",
    "logit.fit(X_train, y_train)\n",
    "print(np.mean(scores_lr), logit.score(X_valid, y_valid))"
   ]
  },
  {
   "cell_type": "markdown",
   "metadata": {},
   "source": [
    "**Read the documentation for [LogisticRegressionCV](http://scikit-learn.org/stable/modules/generated/sklearn.linear_model.LogisticRegressionCV.html). Logistic regression is well studied and there are algorithms for fast parameter `C` search (faster than using `GridSearchCV`).**\n",
    "\n",
    "**Using `LogisticRegressionCV` find optimal C value. Fisrt try wider range: 10 values from 1e-4 up to 1e2 using `logspace` from `NumPy`. Specify `multi_class`='multinomial' and `random_state`=17 for `LogisticRegressionCV`. For cross-validation use `skf` object created earlier. Use `n_jobs`=-1 for parallelization.**\n",
    "\n",
    "**Plot validation curves for parameter `C`.**"
   ]
  },
  {
   "cell_type": "code",
   "execution_count": 38,
   "metadata": {
    "collapsed": true
   },
   "outputs": [
    {
     "name": "stdout",
     "output_type": "stream",
     "text": [
      "Wall time: 10.1 s\n"
     ]
    }
   ],
   "source": [
    "%%time\n",
    "logit_c_values1 = np.logspace(-4, 2, 10)\n",
    "\n",
    "logit_grid_searcher1 = LogisticRegressionCV(Cs = logit_c_values1, random_state=17, cv=skf, multi_class='multinomial', n_jobs=-1)\n",
    "logit_grid_searcher1.fit(X_train, y_train)"
   ]
  },
  {
   "cell_type": "markdown",
   "metadata": {},
   "source": [
    "**Mean accuracy during cross-validation for each of 10 `C` values.**"
   ]
  },
  {
   "cell_type": "code",
   "execution_count": 54,
   "metadata": {
    "collapsed": true
   },
   "outputs": [],
   "source": [
    "logit_mean_cv_scores1 = np.mean(logit_grid_searcher1.scores_[31], axis=0)"
   ]
  },
  {
   "cell_type": "markdown",
   "metadata": {},
   "source": [
    "**Print the best accuracy on cross-validation and corresponding value of `C`.**"
   ]
  },
  {
   "cell_type": "code",
   "execution_count": 64,
   "metadata": {},
   "outputs": [
    {
     "name": "stdout",
     "output_type": "stream",
     "text": [
      "0.7590968798446474 1.0\n"
     ]
    }
   ],
   "source": [
    "print(np.max(logit_mean_cv_scores1), logit_grid_searcher1.Cs_[np.argmax(logit_mean_cv_scores1)])"
   ]
  },
  {
   "cell_type": "markdown",
   "metadata": {},
   "source": [
    "**Plot Accuracy vs. `C` dependency graph on cross-validation.**"
   ]
  },
  {
   "cell_type": "code",
   "execution_count": 57,
   "metadata": {
    "collapsed": true
   },
   "outputs": [
    {
     "data": {
      "image/png": "[encoded data removed]",
      "text/plain": [
       "<Figure size 432x288 with 1 Axes>"
      ]
     },
     "metadata": {},
     "output_type": "display_data"
    }
   ],
   "source": [
    "plt.plot(logit_c_values1, logit_mean_cv_scores1);"
   ]
  },
  {
   "cell_type": "markdown",
   "metadata": {},
   "source": [
    "**Now, do the same again but search `C` values in range `np.linspace`(0.1, 7, 20). Plot the validation curves and find the best accuracy on cross-validation.**"
   ]
  },
  {
   "cell_type": "code",
   "execution_count": 65,
   "metadata": {
    "collapsed": true
   },
   "outputs": [
    {
     "name": "stdout",
     "output_type": "stream",
     "text": [
      "Wall time: 35 s\n"
     ]
    }
   ],
   "source": [
    "%%time\n",
    "logit_c_values2 = np.linspace(0.1, 7, 20)\n",
    "\n",
    "logit_grid_searcher2 = LogisticRegressionCV(Cs = logit_c_values2, random_state=17, cv=skf, multi_class='multinomial', n_jobs=-1)\n",
    "logit_grid_searcher2.fit(X_train, y_train)"
   ]
  },
  {
   "cell_type": "markdown",
   "metadata": {},
   "source": [
    "**Mean accuracy during cross-validation for each of 10 `C` values.**"
   ]
  },
  {
   "cell_type": "code",
   "execution_count": 66,
   "metadata": {
    "collapsed": true
   },
   "outputs": [],
   "source": [
    "logit_mean_cv_scores2 = np.mean(logit_grid_searcher2.scores_[31], axis=0)"
   ]
  },
  {
   "cell_type": "markdown",
   "metadata": {},
   "source": [
    "**Print the best accuracy on cross-validation and corresponding value of C.**"
   ]
  },
  {
   "cell_type": "code",
   "execution_count": 67,
   "metadata": {
    "collapsed": true
   },
   "outputs": [
    {
     "name": "stdout",
     "output_type": "stream",
     "text": [
      "0.7586896943864367 0.4631578947368421\n"
     ]
    }
   ],
   "source": [
    "print(np.max(logit_mean_cv_scores2), logit_grid_searcher2.Cs_[np.argmax(logit_mean_cv_scores2)])"
   ]
  },
  {
   "cell_type": "markdown",
   "metadata": {},
   "source": [
    "**Plot Accuracy vs. `C` dependency graph on cross-validation.**"
   ]
  },
  {
   "cell_type": "code",
   "execution_count": 68,
   "metadata": {
    "collapsed": true
   },
   "outputs": [
    {
     "data": {
      "image/png": "[encoded data removed]",
      "text/plain": [
       "<Figure size 432x288 with 1 Axes>"
      ]
     },
     "metadata": {},
     "output_type": "display_data"
    }
   ],
   "source": [
    "plt.plot(logit_c_values2, logit_mean_cv_scores2);"
   ]
  },
  {
   "cell_type": "markdown",
   "metadata": {},
   "source": [
    "**Print logistic regressoin's accuracy with the best `C` value on `(X_valid, y_valid)`.**"
   ]
  },
  {
   "cell_type": "code",
   "execution_count": 71,
   "metadata": {
    "collapsed": true
   },
   "outputs": [
    {
     "data": {
      "text/plain": [
       "0.7748281583313581"
      ]
     },
     "execution_count": 71,
     "metadata": {},
     "output_type": "execute_result"
    }
   ],
   "source": [
    "logit_cv_acc = accuracy_score(y_valid, logit_grid_searcher2.predict(X_valid))\n",
    "logit_cv_acc"
   ]
  },
  {
   "cell_type": "markdown",
   "metadata": {},
   "source": [
    "**<font color='red'>Question 3. </font> Evaluate model's mean accuracy for `logit_grid_searcher2` on cross-validation using the best `C` and its accuracy on the validation dataset. Round your answers up to the third digit after a decimal point. Write your answers with a space between them.**"
   ]
  },
  {
   "cell_type": "code",
   "execution_count": 72,
   "metadata": {
    "collapsed": true
   },
   "outputs": [
    {
     "name": "stdout",
     "output_type": "stream",
     "text": [
      "0.7586896943864367 0.7748281583313581\n"
     ]
    }
   ],
   "source": [
    "print(np.max(logit_mean_cv_scores2), logit_cv_acc)"
   ]
  },
  {
   "cell_type": "markdown",
   "metadata": {},
   "source": [
    "**4. Train SVM (`LinearSVC`) with `C`=1 and `random_state`=17. Compare model's mean accuracy during cross-validation (don't forget to use `skf` object) and model's ccuracy on `(X_valid, y_valid)`.**"
   ]
  },
  {
   "cell_type": "code",
   "execution_count": 79,
   "metadata": {
    "collapsed": true
   },
   "outputs": [],
   "source": [
    "from sklearn.svm import LinearSVC"
   ]
  },
  {
   "cell_type": "code",
   "execution_count": 80,
   "metadata": {
    "collapsed": true
   },
   "outputs": [
    {
     "name": "stdout",
     "output_type": "stream",
     "text": [
      "0.7527976723012523 0.7769613652524295\n"
     ]
    }
   ],
   "source": [
    "svm = LinearSVC(C=1, random_state=17)\n",
    "scores_svm = cross_val_score(svm, X_train, y_train, cv=skf)\n",
    "svm.fit(X_train, y_train)\n",
    "print(np.mean(scores_svm), svm.score(X_valid, y_valid))"
   ]
  },
  {
   "cell_type": "markdown",
   "metadata": {},
   "source": [
    "**Using `GridSearchCV` find optimal C value for SVM. Fisrt try wider range: 10 values from 1e-4 up to 1e2 using `linspace` from NumPy. Plot the validation curves.**"
   ]
  },
  {
   "cell_type": "code",
   "execution_count": 81,
   "metadata": {
    "collapsed": true
   },
   "outputs": [
    {
     "name": "stdout",
     "output_type": "stream",
     "text": [
      "Wall time: 21.6 s\n"
     ]
    }
   ],
   "source": [
    "%%time\n",
    "svm_params1 = {'C': np.linspace(1e-4, 1e4, 10)}\n",
    "\n",
    "svm_grid_searcher1 = GridSearchCV(svm, param_grid=svm_params1, n_jobs=-1, cv=skf)\n",
    "svm_grid_searcher1.fit(X_train, y_train)"
   ]
  },
  {
   "cell_type": "markdown",
   "metadata": {},
   "source": [
    "**Print the best accuracy on cross-validation and corresponding value of `C`.**"
   ]
  },
  {
   "cell_type": "code",
   "execution_count": 83,
   "metadata": {},
   "outputs": [
    {
     "name": "stdout",
     "output_type": "stream",
     "text": [
      "0.6845153424100793 {'C': 3333.3334000000004}\n"
     ]
    }
   ],
   "source": [
    "print(svm_grid_searcher1.best_score_, svm_grid_searcher1.best_params_)"
   ]
  },
  {
   "cell_type": "markdown",
   "metadata": {},
   "source": [
    "**Plot Accuracy vs. C dependency graph on cross-validation.**"
   ]
  },
  {
   "cell_type": "code",
   "execution_count": 84,
   "metadata": {
    "collapsed": true
   },
   "outputs": [
    {
     "data": {
      "image/png": "[encoded data removed]",
      "text/plain": [
       "<Figure size 432x288 with 1 Axes>"
      ]
     },
     "metadata": {},
     "output_type": "display_data"
    }
   ],
   "source": [
    "plot_validation_curves(svm_params1['C'], svm_grid_searcher1.cv_results_)"
   ]
  },
  {
   "cell_type": "markdown",
   "metadata": {},
   "source": [
    "**But we remember that using deafault regularization parameter (`C`=1) on cross-validation we get a higher accuracy. That's the case (not rare) of a possibility to make a mistake and searching parameters in a wrong range (the reason is that we took a uniform grid on a large scale and missed optimal interval of `C` values). It is more meaningful to search `C` near 1, in addition, model trains faster than with higher values of `C`.**\n",
    "\n",
    "**Using `GridSearchCV` find optimal `C` value for SVM in range(1e-3, 1), 30 values, use `linspace` from NumPy. Plt the validation curves.**"
   ]
  },
  {
   "cell_type": "code",
   "execution_count": 85,
   "metadata": {
    "collapsed": true
   },
   "outputs": [
    {
     "name": "stdout",
     "output_type": "stream",
     "text": [
      "Wall time: 35.1 s\n"
     ]
    }
   ],
   "source": [
    "%%time\n",
    "svm_params2 = {'C': np.linspace(1e-3, 1, 30)}\n",
    "\n",
    "svm_grid_searcher2 = GridSearchCV(svm, param_grid=svm_params2, n_jobs=-1, cv=skf)\n",
    "svm_grid_searcher2.fit(X_train, y_train)"
   ]
  },
  {
   "cell_type": "markdown",
   "metadata": {},
   "source": [
    "**Print the best accuracy on cross-validation and corresponding value of `C`.**"
   ]
  },
  {
   "cell_type": "code",
   "execution_count": 86,
   "metadata": {
    "collapsed": true
   },
   "outputs": [
    {
     "name": "stdout",
     "output_type": "stream",
     "text": [
      "0.764681975208291 {'C': 0.10434482758620689}\n"
     ]
    }
   ],
   "source": [
    "print(svm_grid_searcher2.best_score_, svm_grid_searcher2.best_params_)"
   ]
  },
  {
   "cell_type": "markdown",
   "metadata": {},
   "source": [
    "**Plot Accuracy vs. C dependency graph on cross-validation.**"
   ]
  },
  {
   "cell_type": "code",
   "execution_count": 87,
   "metadata": {
    "collapsed": true
   },
   "outputs": [
    {
     "data": {
      "image/png": "[encoded data removed]",
      "text/plain": [
       "<Figure size 432x288 with 1 Axes>"
      ]
     },
     "metadata": {},
     "output_type": "display_data"
    }
   ],
   "source": [
    "plot_validation_curves(svm_params2['C'], svm_grid_searcher2.cv_results_)"
   ]
  },
  {
   "cell_type": "markdown",
   "metadata": {},
   "source": [
    "**Print `LinearSVC`'s accuracy with the best `C` value on (X_valid, y_valid).**"
   ]
  },
  {
   "cell_type": "code",
   "execution_count": 88,
   "metadata": {
    "collapsed": true
   },
   "outputs": [
    {
     "data": {
      "text/plain": [
       "0.7807537331121118"
      ]
     },
     "execution_count": 88,
     "metadata": {},
     "output_type": "execute_result"
    }
   ],
   "source": [
    "svm_cv_acc = accuracy_score(y_valid, svm_grid_searcher2.predict(X_valid))\n",
    "svm_cv_acc"
   ]
  },
  {
   "cell_type": "markdown",
   "metadata": {},
   "source": [
    "**<font color='red'>Question 4. </font> Evaluate model's mean accuracy for `svm_grid_searcher2` on cross-validation using the best `C` and its accuracy on the validation dataset. Round your answers up to the third digit after a decimal point. Write your answers with a space between them.**"
   ]
  },
  {
   "cell_type": "code",
   "execution_count": 89,
   "metadata": {
    "collapsed": true
   },
   "outputs": [
    {
     "name": "stdout",
     "output_type": "stream",
     "text": [
      "0.764681975208291 0.7807537331121118\n"
     ]
    }
   ],
   "source": [
    "print(svm_grid_searcher2.best_score_, svm_cv_acc)"
   ]
  },
  {
   "cell_type": "markdown",
   "metadata": {},
   "source": [
    "## Part 2. Parameter tuning – session_length and window_size"
   ]
  },
  {
   "cell_type": "markdown",
   "metadata": {},
   "source": [
    "**Let's take `LinearSVC` since it performed best on cross-validation in part 1 and check its performance on 8 datasets of 10 users (with different combiantions of `session_length` and `window_size`). Since there are much more computations, we will not search regularization parameter `C` each time.**\n",
    "\n",
    "**Write the `model_assessment` function with the specification provided below. Pay your attention to all details, e.g. `train_test_split` should be stratified. Don't forget `random_state` anywhere.**"
   ]
  },
  {
   "cell_type": "code",
   "execution_count": 92,
   "metadata": {
    "collapsed": true
   },
   "outputs": [],
   "source": [
    "def model_assessment(estimator, path_to_X_pickle, path_to_y_pickle, cv, random_state=17, test_size=0.3):\n",
    "    '''\n",
    "    Estimates CV-accuracy for (1 - test_size) share of (X_sparse, y) \n",
    "    loaded from path_to_X_pickle and path_to_y_pickle and holdout accuracy for (test_size) share of (X_sparse, y).\n",
    "    The split is made with stratified train_test_split with params random_state and test_size.\n",
    "    \n",
    "    :param estimator – Scikit-learn estimator (classifier or regressor)\n",
    "    :param path_to_X_pickle – path to pickled sparse X (instances and their features)\n",
    "    :param path_to_y_pickle – path to pickled y (responses)\n",
    "    :param cv – cross-validation as in cross_val_score (use StratifiedKFold here)\n",
    "    :param random_state –  for train_test_split\n",
    "    :param test_size –  for train_test_split\n",
    "    \n",
    "    :returns mean CV-accuracy for (X_train, y_train) and accuracy for (X_valid, y_valid) where (X_train, y_train)\n",
    "    and (X_valid, y_valid) are (1 - test_size) and (testsize) shares of (X_sparse, y).\n",
    "    '''\n",
    "    \n",
    "    with open(path_to_X_pickle, 'rb') as X_sparse_pkl:\n",
    "        X_sparse = pickle.load(X_sparse_pkl)\n",
    "    with open(path_to_y_pickle, 'rb') as y_pkl:\n",
    "        y = pickle.load(y_pkl)\n",
    "    X_train, X_valid, y_train, y_valid = train_test_split(X_sparse, y, test_size=test_size, random_state=random_state, stratify=y)\n",
    "    scores = cross_val_score(estimator, X_train, y_train, cv=cv)\n",
    "    estimator.fit(X_train, y_train)\n",
    "    return(np.mean(scores), accuracy_score(y_valid, estimator.predict(X_valid)))"
   ]
  },
  {
   "cell_type": "markdown",
   "metadata": {},
   "source": [
    "**Double-check that the function is working.**"
   ]
  },
  {
   "cell_type": "code",
   "execution_count": 93,
   "metadata": {
    "collapsed": true
   },
   "outputs": [
    {
     "data": {
      "text/plain": [
       "(0.7646853244550981, 0.7807537331121118)"
      ]
     },
     "execution_count": 93,
     "metadata": {},
     "output_type": "execute_result"
    }
   ],
   "source": [
    "model_assessment(svm_grid_searcher2.best_estimator_, \n",
    "                 os.path.join(PATH_TO_DATA, 'X_sparse_10users.pkl'),\n",
    "        os.path.join(PATH_TO_DATA, 'y_10users.pkl'), skf, random_state=17, test_size=0.3)"
   ]
  },
  {
   "cell_type": "markdown",
   "metadata": {},
   "source": [
    "**Apply `model_assessment` function for the best algorithm from the previous part (namely, `svm_grid_searcher2.best_estimator_`) and 9 datasets with different combinations of `session_length` and `window_size` of 10 users. Print `session_length` and `window_size` parameters in the loop as well as an output of the `model_assessment` function.\n",
    "It's handy if the `model_assessment` function returns execution time as a third output argument. It took 20 sec to execute this code snippet on my laptop. But with 150 users dataset, each iteration takes a couple of minutes.**"
   ]
  },
  {
   "cell_type": "markdown",
   "metadata": {},
   "source": [
    "Here, for the convinience it worth to create copies of pickle-files `X_sparse_10users.pkl`, `X_sparse_150users.pkl`, `y_10users.pkl` and `y_150users.pkl` adding `s10_w10` to their names, which means session length of 10 and window width of 10."
   ]
  },
  {
   "cell_type": "code",
   "execution_count": 102,
   "metadata": {},
   "outputs": [],
   "source": [
    "# Won't work on non-Linux based Machines (Basically it's creating copies of the files)\n",
    "!cp $PATH_TO_DATA/X_sparse_10users.pkl $PATH_TO_DATA/X_sparse_10users_s10w10.pkl \n",
    "!cp $PATH_TO_DATA/X_sparse_150users.pkl $PATH_TO_DATA/X_sparse_150users_s10w10.pkl \n",
    "!cp $PATH_TO_DATA/y_10users.pkl $PATH_TO_DATA/y_10users_s10w10.pkl \n",
    "!cp $PATH_TO_DATA/y_150users.pkl $PATH_TO_DATA/y_150users_s10w10.pkl "
   ]
  },
  {
   "cell_type": "code",
   "execution_count": 103,
   "metadata": {
    "collapsed": true
   },
   "outputs": [
    {
     "name": "stdout",
     "output_type": "stream",
     "text": [
      "15 10 (0.8238214955278105, 0.8404835269021095)\n",
      "10 10 (0.7646853244550981, 0.7807537331121118)\n",
      "15 7 (0.8479403769844098, 0.8543222166915547)\n",
      "10 7 (0.7970161463734652, 0.8073668491786958)\n",
      "7 7 (0.7529891114830342, 0.7617388418782147)\n",
      "15 5 (0.868001372554347, 0.8752963489805595)\n",
      "10 5 (0.8159247205318039, 0.8245614035087719)\n",
      "7 5 (0.774058674563226, 0.7853247984826932)\n",
      "5 5 (0.7252830650398828, 0.7362494073020389)\n",
      "Wall time: 29.8 s\n"
     ]
    }
   ],
   "source": [
    "%%time\n",
    "estimator = svm_grid_searcher2.best_estimator_\n",
    "\n",
    "for window_size, session_length in itertools.product([10, 7, 5], [15, 10, 7, 5]):\n",
    "    if window_size <= session_length:\n",
    "        path_to_X_pkl = os.path.join(PATH_TO_DATA, 'X_sparse_10users_s'+str(session_length)+'w'+str(window_size)+'.pkl')\n",
    "        path_to_y_pkl = os.path.join(PATH_TO_DATA, 'y_10users_s'+str(session_length)+'w'+str(window_size)+'.pkl')\n",
    "        print(session_length, window_size, model_assessment(estimator, path_to_X_pkl, path_to_y_pkl, skf))"
   ]
  },
  {
   "cell_type": "markdown",
   "metadata": {},
   "source": [
    "**<font color='red'>Question 5. </font> Evaluate `LinearSVC`'s accuracy  with optimal `C` on `X_sparse_10users_s15_w5` dataset. Write model's mean accuracy on cross-validation and its accuracy on validation dataset. Round your answers up to the third digit after a decimal point. Write your answers with a space between them.**"
   ]
  },
  {
   "cell_type": "code",
   "execution_count": 105,
   "metadata": {
    "collapsed": true
   },
   "outputs": [
    {
     "data": {
      "text/plain": [
       "(0.868001372554347, 0.8752963489805595)"
      ]
     },
     "execution_count": 105,
     "metadata": {},
     "output_type": "execute_result"
    }
   ],
   "source": [
    "model_assessment(estimator, \n",
    "                 os.path.join(PATH_TO_DATA, 'X_sparse_10users_s'+str(15)+'w'+str(5)+'.pkl'), \n",
    "                 os.path.join(PATH_TO_DATA, 'y_10users_s'+str(15)+'w'+str(5)+'.pkl'), skf)"
   ]
  },
  {
   "cell_type": "markdown",
   "metadata": {},
   "source": [
    "**Comment on the results. Compare mean accuracy on cross-validation and on validation dataset using the following combinations of parameters(`session_length, window_size`): (5,5), (7,7) и (10,10). On average laptop it could take up to an hour. After all, it's data science :)**.\n",
    "\n",
    "**Make a conclusion about how accuracy depends on session length and window width.**"
   ]
  },
  {
   "cell_type": "code",
   "execution_count": 106,
   "metadata": {
    "collapsed": true
   },
   "outputs": [
    {
     "name": "stdout",
     "output_type": "stream",
     "text": [
      "5 5 (0.40858659509908596, 0.42171606560568453)\n",
      "7 7 (0.43638649409423974, 0.45295840855673264)\n",
      "10 10 (0.4612588999427913, 0.4836276942538802)\n",
      "Wall time: 17min 5s\n"
     ]
    }
   ],
   "source": [
    "%%time\n",
    "estimator = svm_grid_searcher2.best_estimator_\n",
    "\n",
    "for window_size, session_length in [(5,5), (7,7), (10,10)]:\n",
    "    path_to_X_pkl = os.path.join(PATH_TO_DATA, 'X_sparse_150users_s'+str(session_length)+'w'+str(window_size)+'.pkl')\n",
    "    path_to_y_pkl = os.path.join(PATH_TO_DATA, 'y_150users_s'+str(session_length)+'w'+str(window_size)+'.pkl')\n",
    "    print(session_length, window_size, model_assessment(estimator, path_to_X_pkl, path_to_y_pkl, skf))"
   ]
  },
  {
   "cell_type": "markdown",
   "metadata": {},
   "source": [
    "**<font color='red'>Question 6. </font> Evaluate `LinearSVC`'s accuracy with optimal `C` value on `X_sparse_150users`. Write model's accuracy on cross-validation and on the validation dataset. Round your answers up to the third digit after a decimal point. Write your answers with a space between them.**"
   ]
  },
  {
   "cell_type": "code",
   "execution_count": 107,
   "metadata": {
    "collapsed": true
   },
   "outputs": [
    {
     "data": {
      "text/plain": [
       "(0.4612588999427913, 0.4836276942538802)"
      ]
     },
     "execution_count": 107,
     "metadata": {},
     "output_type": "execute_result"
    }
   ],
   "source": [
    "model_assessment(estimator, \n",
    "                 os.path.join(PATH_TO_DATA, 'X_sparse_150users.pkl'), \n",
    "                 os.path.join(PATH_TO_DATA, 'y_150users.pkl'), skf)"
   ]
  },
  {
   "cell_type": "markdown",
   "metadata": {},
   "source": [
    "## Part 3. Particular user identification and learning curves"
   ]
  },
  {
   "cell_type": "markdown",
   "metadata": {},
   "source": [
    "**Since it may dissapoint that accuracy at multiclass classification problem on 150 users dataset is low, let's joy the fact that some particular user could be identified quite well.**"
   ]
  },
  {
   "cell_type": "markdown",
   "metadata": {},
   "source": [
    "**Load `X_sparse_150users` and `y_150users` objects serialized earlier which correspond to 150 users dataset with parameters (*session_length, window_size*) = (10,10). Split them into two parts: 70% train data and 30% validation data.**"
   ]
  },
  {
   "cell_type": "code",
   "execution_count": 108,
   "metadata": {
    "collapsed": true
   },
   "outputs": [],
   "source": [
    "with open(os.path.join(PATH_TO_DATA, 'X_sparse_150users.pkl'), 'rb') as X_sparse_150users_pkl:\n",
    "     X_sparse_150users = pickle.load(X_sparse_150users_pkl)\n",
    "with open(os.path.join(PATH_TO_DATA, 'y_150users.pkl'), 'rb') as y_150users_pkl:\n",
    "    y_150users = pickle.load(y_150users_pkl)"
   ]
  },
  {
   "cell_type": "code",
   "execution_count": 109,
   "metadata": {
    "collapsed": true
   },
   "outputs": [],
   "source": [
    "X_train_150, X_valid_150, y_train_150, y_valid_150 = train_test_split(X_sparse_150users, \n",
    "                                                                      y_150users, test_size=0.3, \n",
    "                                                     random_state=17, stratify=y_150users)"
   ]
  },
  {
   "cell_type": "markdown",
   "metadata": {},
   "source": [
    "**Train `LogisticRegressionCV` with single `C` value (take the best `C` value on cross-validation in part 1, use an accurate value, not an approximate one). Now we are going to solve 150 tasks One-vs-All, hence set `multi_class`='ovr'. As usual, set `n_jobs=-1` and `random_state`=17 where it is possible (this training might take up to 20 min).**"
   ]
  },
  {
   "cell_type": "code",
   "execution_count": 113,
   "metadata": {
    "collapsed": true
   },
   "outputs": [
    {
     "name": "stdout",
     "output_type": "stream",
     "text": [
      "Wall time: 4min 32s\n"
     ]
    }
   ],
   "source": [
    "%%time\n",
    "logit_cv_150users = LogisticRegressionCV(Cs=[logit_grid_searcher2.Cs_[np.argmax(logit_mean_cv_scores2)]], cv=skf, n_jobs=-1, random_state=17, multi_class='ovr')\n",
    "logit_cv_150users.fit(X_train_150, y_train_150)"
   ]
  },
  {
   "cell_type": "markdown",
   "metadata": {},
   "source": [
    "**Compare mean accuracy on cross-validation for each user identification problem separately.**"
   ]
  },
  {
   "cell_type": "code",
   "execution_count": 142,
   "metadata": {},
   "outputs": [],
   "source": [
    "cv_scores_by_user = {user_id: np.mean(scores) for (user_id, scores) in logit_cv_150users.scores_.items()}"
   ]
  },
  {
   "cell_type": "code",
   "execution_count": 118,
   "metadata": {
    "collapsed": true
   },
   "outputs": [
    {
     "name": "stdout",
     "output_type": "stream",
     "text": [
      "User 6, CV score: 0.9958396485310578\n",
      "User 13, CV score: 0.996236159606072\n",
      "User 15, CV score: 0.9951414156621485\n",
      "User 16, CV score: 0.9917629636028263\n",
      "User 28, CV score: 0.990032646749408\n",
      "User 31, CV score: 0.9945992933895361\n",
      "User 33, CV score: 0.9936295923347456\n",
      "User 39, CV score: 0.9857474441964414\n",
      "User 46, CV score: 0.9979773735144889\n",
      "User 49, CV score: 0.9949328849394247\n",
      "User 50, CV score: 0.9944847392709221\n",
      "User 53, CV score: 0.9936087227963695\n",
      "User 65, CV score: 0.9969973347781819\n",
      "User 66, CV score: 0.9949640742212859\n",
      "User 82, CV score: 0.9963612639936241\n",
      "User 85, CV score: 0.9963196987839488\n",
      "User 89, CV score: 0.9905122649916512\n",
      "User 92, CV score: 0.9943596252032839\n",
      "User 100, CV score: 0.9947138940123931\n",
      "User 102, CV score: 0.991190153815365\n",
      "User 103, CV score: 0.9798259124963927\n",
      "User 105, CV score: 0.9968201105460203\n",
      "User 106, CV score: 0.9945051894225921\n",
      "User 118, CV score: 0.9906581115547454\n",
      "User 119, CV score: 0.9966011573912393\n",
      "User 120, CV score: 0.9942028893690901\n",
      "User 126, CV score: 0.9949953666657659\n",
      "User 127, CV score: 0.9910750393751755\n",
      "User 128, CV score: 0.9845696099756521\n",
      "User 138, CV score: 0.997195338958136\n",
      "User 158, CV score: 0.9970494778749127\n",
      "User 160, CV score: 0.9968616573436172\n",
      "User 165, CV score: 0.9972996440377231\n",
      "User 172, CV score: 0.996538553616154\n",
      "User 177, CV score: 0.996840961672318\n",
      "User 203, CV score: 0.9973101662144965\n",
      "User 207, CV score: 0.9874161297727787\n",
      "User 223, CV score: 0.9964863587010901\n",
      "User 233, CV score: 0.9963194919846642\n",
      "User 235, CV score: 0.9967053544681646\n",
      "User 236, CV score: 0.9900851341623905\n",
      "User 237, CV score: 0.9891879280334254\n",
      "User 238, CV score: 0.9962986602185385\n",
      "User 240, CV score: 0.995808619544238\n",
      "User 241, CV score: 0.9960276434034773\n",
      "User 242, CV score: 0.9949952775492292\n",
      "User 245, CV score: 0.9960172059772443\n",
      "User 246, CV score: 0.9970390317166872\n",
      "User 249, CV score: 0.9951415052527319\n",
      "User 252, CV score: 0.996434272262735\n",
      "User 254, CV score: 0.9916382113154247\n",
      "User 256, CV score: 0.9961109849881087\n",
      "User 258, CV score: 0.9957876604152786\n",
      "User 259, CV score: 0.9950894139743337\n",
      "User 260, CV score: 0.9972787933854722\n",
      "User 261, CV score: 0.9896577670195402\n",
      "User 263, CV score: 0.9926391771965775\n",
      "User 264, CV score: 0.9966739206147682\n",
      "User 269, CV score: 0.9870403061111178\n",
      "User 270, CV score: 0.9889686300883461\n",
      "User 273, CV score: 0.9944220459052531\n",
      "User 287, CV score: 0.990355863793623\n",
      "User 294, CV score: 0.9959443207049712\n",
      "User 298, CV score: 0.9910332867263878\n",
      "User 301, CV score: 0.99707028591487\n",
      "User 308, CV score: 0.9956836183193051\n",
      "User 315, CV score: 0.9974141652241295\n",
      "User 318, CV score: 0.9957356393672918\n",
      "User 327, CV score: 0.9966741138420175\n",
      "User 332, CV score: 0.9967992647338124\n",
      "User 333, CV score: 0.9960903556552715\n",
      "User 339, CV score: 0.9969970853666035\n",
      "User 340, CV score: 0.9967261910743334\n",
      "User 342, CV score: 0.9922431078122971\n",
      "User 344, CV score: 0.9967365248639005\n",
      "User 351, CV score: 0.9923784133124925\n",
      "User 356, CV score: 0.99753947204497\n",
      "User 361, CV score: 0.9965801469179936\n",
      "User 363, CV score: 0.9964135339791422\n",
      "User 411, CV score: 0.9908042772857825\n",
      "User 417, CV score: 0.9968514271907155\n",
      "User 425, CV score: 0.9942969037454504\n",
      "User 430, CV score: 0.9961838470082602\n",
      "User 435, CV score: 0.9971224672578982\n",
      "User 436, CV score: 0.9951413735239018\n",
      "User 440, CV score: 0.9971326882047608\n",
      "User 444, CV score: 0.9974665155941921\n",
      "User 475, CV score: 0.9892924873646338\n",
      "User 476, CV score: 0.9968304685358027\n",
      "User 486, CV score: 0.9953915343726223\n",
      "User 515, CV score: 0.9941927255546505\n",
      "User 533, CV score: 0.9936610257140952\n",
      "User 561, CV score: 0.984496138759448\n",
      "User 563, CV score: 0.9968825312479894\n",
      "User 564, CV score: 0.9955167143046754\n",
      "User 568, CV score: 0.991909247490658\n",
      "User 569, CV score: 0.9892926282995034\n",
      "User 570, CV score: 0.9982589832107817\n",
      "User 573, CV score: 0.9910124694803913\n",
      "User 575, CV score: 0.9900536625367437\n",
      "User 576, CV score: 0.9943594702223323\n",
      "User 580, CV score: 0.9865084082032703\n",
      "User 583, CV score: 0.9803776735643112\n",
      "User 584, CV score: 0.9813472893945142\n",
      "User 600, CV score: 0.991502599745275\n",
      "User 603, CV score: 0.9956001784120979\n",
      "User 605, CV score: 0.9972996120536092\n",
      "User 640, CV score: 0.9971537597023783\n",
      "User 647, CV score: 0.9973620133954061\n",
      "User 653, CV score: 0.9973934322546268\n",
      "User 664, CV score: 0.9952979490630538\n",
      "User 665, CV score: 0.9969972693878134\n",
      "User 677, CV score: 0.9966322711285994\n",
      "User 692, CV score: 0.9969451117709535\n",
      "User 697, CV score: 0.9957460530673566\n",
      "User 705, CV score: 0.9964655128888822\n",
      "User 722, CV score: 0.9945053400375478\n",
      "User 740, CV score: 0.996747206387622\n",
      "User 741, CV score: 0.9970493461460824\n",
      "User 756, CV score: 0.995454161873876\n",
      "User 780, CV score: 0.9964136240437725\n",
      "User 784, CV score: 0.996423942839164\n",
      "User 785, CV score: 0.9972369792382656\n",
      "User 797, CV score: 0.9957357720442158\n",
      "User 812, CV score: 0.994568000945056\n",
      "User 844, CV score: 0.9969867801432476\n",
      "User 859, CV score: 0.9980712280698544\n",
      "User 868, CV score: 0.9967470983849599\n",
      "User 875, CV score: 0.9954232466778551\n",
      "User 932, CV score: 0.9902203176138418\n",
      "User 996, CV score: 0.9925973015509518\n",
      "User 1014, CV score: 0.9969761969421019\n",
      "User 1040, CV score: 0.9969032593774493\n",
      "User 1054, CV score: 0.9964760200714798\n",
      "User 1248, CV score: 0.9977063382873491\n",
      "User 1267, CV score: 0.9973829013458609\n",
      "User 1299, CV score: 0.9968931473813426\n",
      "User 1371, CV score: 0.993316620437608\n",
      "User 1797, CV score: 0.9944010920903833\n",
      "User 1798, CV score: 0.9962677576464595\n",
      "User 1993, CV score: 0.9967159236232278\n",
      "User 2118, CV score: 0.9976020612999265\n",
      "User 2174, CV score: 0.995579318079761\n",
      "User 2191, CV score: 0.9951934744823858\n",
      "User 2250, CV score: 0.9974143298851675\n",
      "User 2355, CV score: 0.9954957823197867\n",
      "User 2408, CV score: 0.9934319416770822\n",
      "User 2493, CV score: 0.9965384596595742\n",
      "User 2625, CV score: 0.9958609466621792\n",
      "User 2902, CV score: 0.9970597128678573\n"
     ]
    }
   ],
   "source": [
    "cv_scores_by_user = {user_id: np.mean(scores) for (user_id, scores) in logit_cv_150users.scores_.items()}\n",
    "for user_id in logit_cv_150users.scores_:\n",
    "    print('User {}, CV score: {}'.format(user_id, cv_scores_by_user[user_id]))"
   ]
  },
  {
   "cell_type": "markdown",
   "metadata": {},
   "source": [
    "**Accuracy could seem impressive, but, perhaps, we forget about class disbalance and high accuracy could just be obtained with a constant prediction.  Evaluate the difference between accuracy on cross-validation (we've just evaluated using `LogisticRegressionCV`) and the fraction of labels which differ from user_id (that's the accuracy we get if classificator always says that it is not the $i$-th user in classification task $i$-vs-All) for each user in `y_train_150`.**"
   ]
  },
  {
   "cell_type": "code",
   "execution_count": 147,
   "metadata": {
    "collapsed": true
   },
   "outputs": [],
   "source": [
    "class_distr = np.bincount(y_train_150.astype('int'))\n",
    "acc_diff_vs_constant = {}\n",
    "for user_id in np.unique(y_train_150):\n",
    "    acc_diff_vs_constant[user_id] = cv_scores_by_user[user_id] - (1 - (class_distr[user_id] / np.sum(class_distr)))"
   ]
  },
  {
   "cell_type": "code",
   "execution_count": 148,
   "metadata": {
    "collapsed": true
   },
   "outputs": [],
   "source": [
    "num_better_than_default = (np.array(list(acc_diff_vs_constant.values())) > 0).sum()"
   ]
  },
  {
   "cell_type": "markdown",
   "metadata": {},
   "source": [
    "**<font color='red'>Question 7. </font> Evaluate the fraction of users where `LogisticRegressionCV` performs better than just a constant prediction. Round your answer up to the third digit after the decimal point.**"
   ]
  },
  {
   "cell_type": "code",
   "execution_count": 152,
   "metadata": {
    "collapsed": true
   },
   "outputs": [
    {
     "data": {
      "text/plain": [
       "0.9066666666666666"
      ]
     },
     "execution_count": 152,
     "metadata": {},
     "output_type": "execute_result"
    }
   ],
   "source": [
    "num_better_than_default / len(np.unique(y_train_150))"
   ]
  },
  {
   "cell_type": "markdown",
   "metadata": {},
   "source": [
    "**Next step is to plot learning curves for a particular user, let's say for 128-th. Make a new binary vector using `y_150users`, its values are 1 or 0 depending on whether user_id=128 or not.**"
   ]
  },
  {
   "cell_type": "code",
   "execution_count": null,
   "metadata": {
    "collapsed": true
   },
   "outputs": [],
   "source": [
    "y_binary_128 = ''' YOUR CODE IS HERE '''"
   ]
  },
  {
   "cell_type": "code",
   "execution_count": null,
   "metadata": {
    "collapsed": true
   },
   "outputs": [],
   "source": [
    "from sklearn.model_selection import learning_curve\n",
    "\n",
    "def plot_learning_curve(val_train, val_test, train_sizes, \n",
    "                        xlabel='Training Set Size', ylabel='score'):\n",
    "    def plot_with_err(x, data, **kwargs):\n",
    "        mu, std = data.mean(1), data.std(1)\n",
    "        lines = plt.plot(x, mu, '-', **kwargs)\n",
    "        plt.fill_between(x, mu - std, mu + std, edgecolor='none',\n",
    "                         facecolor=lines[0].get_color(), alpha=0.2)\n",
    "    plot_with_err(train_sizes, val_train, label='train')\n",
    "    plot_with_err(train_sizes, val_test, label='valid')\n",
    "    plt.xlabel(xlabel); plt.ylabel(ylabel)\n",
    "    plt.legend(loc='lower right');"
   ]
  },
  {
   "cell_type": "markdown",
   "metadata": {},
   "source": [
    "**Evaluate accuracy on cross-validation at \"user128-vs-All\" task depending on train size. It would be useful to check the documentation for `learning_curve`.**"
   ]
  },
  {
   "cell_type": "code",
   "execution_count": null,
   "metadata": {
    "collapsed": true
   },
   "outputs": [],
   "source": [
    "%%time\n",
    "train_sizes = np.linspace(0.25, 1, 20)\n",
    "estimator = svm_grid_searcher2.best_estimator_\n",
    "n_train, val_train, val_test = learning_curve ''' YOUR CODE IS HERE '''"
   ]
  },
  {
   "cell_type": "code",
   "execution_count": null,
   "metadata": {
    "collapsed": true
   },
   "outputs": [],
   "source": [
    "plot_learning_curve(val_train, val_test, n_train, \n",
    "                    xlabel='train_size', ylabel='accuracy')"
   ]
  },
  {
   "cell_type": "markdown",
   "metadata": {},
   "source": [
    "**Make a conclusion whether new data helps to improve the model's accuracy with the same problem definition.**"
   ]
  },
  {
   "cell_type": "markdown",
   "metadata": {},
   "source": [
    "Next week, we will recall linear models trained with stochastic gradient descend, and enjoy how faster they work."
   ]
  }
 ],
 "metadata": {
  "anaconda-cloud": {},
  "kernelspec": {
   "display_name": "Python 3",
   "language": "python",
   "name": "python3"
  },
  "language_info": {
   "codemirror_mode": {
    "name": "ipython",
    "version": 3
   },
   "file_extension": ".py",
   "mimetype": "text/x-python",
   "name": "python",
   "nbconvert_exporter": "python",
   "pygments_lexer": "ipython3",
   "version": "3.6.2"
  }
 },
 "nbformat": 4,
 "nbformat_minor": 2
}
